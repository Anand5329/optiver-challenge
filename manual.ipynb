{
 "cells": [
  {
   "cell_type": "markdown",
   "metadata": {},
   "source": [
    "# Optibook Manual\n",
    "\n",
    "This notebook contains examples for **all interactions** you can do with optibook (that means inserting orders, getting your positions, etc.). You should use this notebook as a reference/documenation for the system later on when you write more extensive algorithms.\n",
    "\n",
    "First we do some setup and import the optibook client, which is used to connect to the optibook exchange. If everything is setup correctly, you should see the line \"Setup was successful.\" being printed."
   ]
  },
  {
   "cell_type": "code",
   "execution_count": 1,
   "metadata": {},
   "outputs": [
    {
     "name": "stdout",
     "output_type": "stream",
     "text": [
      "Setup was successful.\n"
     ]
    }
   ],
   "source": [
    "from optibook.synchronous_client import Exchange\n",
    "\n",
    "import logging\n",
    "logger = logging.getLogger('client')\n",
    "logger.setLevel('ERROR')\n",
    "\n",
    "print(\"Setup was successful.\")"
   ]
  },
  {
   "cell_type": "markdown",
   "metadata": {},
   "source": [
    "### Define Your Instrument\n",
    "\n",
    "An instrument is the term we use for the 'thing' that we are trading. As such, if we are trading BMW stocks, we would call those an instrument. However, BMW options would be a different instrument. \n",
    "\n",
    "This field determines which instrument we are trading. By changing it, you will insert trades for a different instrument. You can see all available instruments by looking at the dropdown menu labeled \"Instruments\" on the visualizer."
   ]
  },
  {
   "cell_type": "code",
   "execution_count": 2,
   "metadata": {},
   "outputs": [],
   "source": [
    "instrument_id = 'PHILIPS_A'"
   ]
  },
  {
   "cell_type": "markdown",
   "metadata": {},
   "source": [
    "### Connect to Exchange"
   ]
  },
  {
   "cell_type": "code",
   "execution_count": 3,
   "metadata": {},
   "outputs": [
    {
     "name": "stderr",
     "output_type": "stream",
     "text": [
      "2021-01-24 05:25:17,545 [asyncio   ] [MainThread  ] Using selector: EpollSelector\n"
     ]
    }
   ],
   "source": [
    "e = Exchange()\n",
    "a = e.connect()\n",
    "\n",
    "# you can also define host/user/pass yourself\n",
    "# when not defined, it is taken from ~/.optibook file if it exists\n",
    "# if that file does not exists, an error is thrown\n",
    "\n",
    "#e = Exchange(host='host-to-connect-to')\n",
    "#a = e.connect(username='your-username', password='your-password')\n"
   ]
  },
  {
   "cell_type": "markdown",
   "metadata": {},
   "source": [
    "## Outstanding Orders, Trades, Current Positions and PnL"
   ]
  },
  {
   "cell_type": "code",
   "execution_count": null,
   "metadata": {},
   "outputs": [],
   "source": [
    "# Returns all currently outstanding orders\n",
    "orders = e.get_outstanding_orders(instrument_id)\n",
    "for o in orders.values():\n",
    "    print(o)"
   ]
  },
  {
   "cell_type": "code",
   "execution_count": 84,
   "metadata": {},
   "outputs": [],
   "source": [
    "# Returns all trades you have done since the last time this function was called\n",
    "trades = e.poll_new_trades(instrument_id)\n",
    "for t in trades:\n",
    "    print(f\"[TRADED {t.instrument_id}] price({t.price}), volume({t.volume}), side({t.side})\")"
   ]
  },
  {
   "cell_type": "code",
   "execution_count": 4,
   "metadata": {},
   "outputs": [],
   "source": [
    "# Returns all trades you have done since since the instantiation of the Exchange\n",
    "trades = e.get_trade_history(instrument_id)\n",
    "for t in trades:\n",
    "    print(f\"[TRADED {t.instrument_id}] price({t.price}), volume({t.volume}), side({t.side})\")"
   ]
  },
  {
   "cell_type": "code",
   "execution_count": 86,
   "metadata": {},
   "outputs": [
    {
     "name": "stdout",
     "output_type": "stream",
     "text": [
      "PHILIPS_A 0\n",
      "PHILIPS_B 0\n"
     ]
    }
   ],
   "source": [
    "# Returns all current positions\n",
    "positions = e.get_positions()\n",
    "for p in positions:\n",
    "    print(p, positions[p])"
   ]
  },
  {
   "cell_type": "code",
   "execution_count": 87,
   "metadata": {},
   "outputs": [
    {
     "name": "stdout",
     "output_type": "stream",
     "text": [
      "PHILIPS_A {'volume': 0, 'cash': -2194.4000000000033}\n",
      "PHILIPS_B {'volume': 0, 'cash': 535.7999999999986}\n"
     ]
    }
   ],
   "source": [
    "# Returns all current positions with cash invested\n",
    "positions = e.get_positions_and_cash()\n",
    "for p in positions:\n",
    "    print(p, positions[p])"
   ]
  },
  {
   "cell_type": "code",
   "execution_count": 5,
   "metadata": {},
   "outputs": [
    {
     "name": "stdout",
     "output_type": "stream",
     "text": [
      "-7005.8000000000075\n"
     ]
    }
   ],
   "source": [
    "# Returns Current PnL based on last Traded Price\n",
    "pnl = e.get_pnl()\n",
    "print(pnl)"
   ]
  },
  {
   "cell_type": "markdown",
   "metadata": {},
   "source": [
    "## Order Book and Public Trade Ticks"
   ]
  },
  {
   "cell_type": "code",
   "execution_count": 48,
   "metadata": {},
   "outputs": [
    {
     "name": "stdout",
     "output_type": "stream",
     "text": [
      "bid | price | ask\n",
      "[[price_volume] price=71.10000000000001, volume=40, [price_volume] price=70.9, volume=20, [price_volume] price=65.5, volume=74, [price_volume] price=65.0, volume=100]\n",
      "[[price_volume] price=71.3, volume=20, [price_volume] price=71.7, volume=40]\n"
     ]
    },
    {
     "name": "stderr",
     "output_type": "stream",
     "text": [
      "2021-01-23 14:42:07,347 [client    ] [Thread-9    ] Forcing a disconnect due to an error: Closing connection because someone else logged in with the same credentials. Only one session may be active at the same time.\n"
     ]
    }
   ],
   "source": [
    "book = e.get_last_price_book(instrument_id)\n",
    "print(book)"
   ]
  },
  {
   "cell_type": "code",
   "execution_count": null,
   "metadata": {},
   "outputs": [],
   "source": [
    "# Returns all public tradeticks since the last time this function was called\n",
    "tradeticks = e.poll_new_trade_ticks(instrument_id)\n",
    "for t in tradeticks:\n",
    "    print(f\"[{t.instrument_id}] price({t.price}), volume({t.volume}), aggressor_side({t.aggressor_side}), buyer({t.buyer}), seller({t.seller})\")"
   ]
  },
  {
   "cell_type": "code",
   "execution_count": 35,
   "metadata": {},
   "outputs": [
    {
     "name": "stdout",
     "output_type": "stream",
     "text": [
      "<optibook.common_types.TradeTick object at 0x7fdbd412f390>\n",
      "<optibook.common_types.TradeTick object at 0x7fdbd4264588>\n",
      "<optibook.common_types.TradeTick object at 0x7fdbd40dacf8>\n",
      "<optibook.common_types.TradeTick object at 0x7fdbd4110c18>\n",
      "<optibook.common_types.TradeTick object at 0x7fdbd416d3c8>\n",
      "<optibook.common_types.TradeTick object at 0x7fdbd411b860>\n",
      "<optibook.common_types.TradeTick object at 0x7fdbd414d6d8>\n",
      "<optibook.common_types.TradeTick object at 0x7fdbd40da4a8>\n",
      "<optibook.common_types.TradeTick object at 0x7fdbd4104ba8>\n",
      "<optibook.common_types.TradeTick object at 0x7fdbd4264c50>\n",
      "<optibook.common_types.TradeTick object at 0x7fdbd40c26a0>\n",
      "<optibook.common_types.TradeTick object at 0x7fdbd41526a0>\n",
      "<optibook.common_types.TradeTick object at 0x7fdbd4125978>\n",
      "<optibook.common_types.TradeTick object at 0x7fdbd4143ba8>\n",
      "<optibook.common_types.TradeTick object at 0x7fdbd40d8128>\n",
      "<optibook.common_types.TradeTick object at 0x7fdbd415bf60>\n",
      "<optibook.common_types.TradeTick object at 0x7fdbd40bfcc0>\n",
      "<optibook.common_types.TradeTick object at 0x7fdbd40e5470>\n",
      "<optibook.common_types.TradeTick object at 0x7fdbd41bb3c8>\n",
      "<optibook.common_types.TradeTick object at 0x7fdbd41a8518>\n",
      "<optibook.common_types.TradeTick object at 0x7fdbd4164be0>\n",
      "<optibook.common_types.TradeTick object at 0x7fdbd40d4710>\n",
      "<optibook.common_types.TradeTick object at 0x7fdbd412f128>\n",
      "<optibook.common_types.TradeTick object at 0x7fdbd416d320>\n",
      "<optibook.common_types.TradeTick object at 0x7fdbd4104080>\n",
      "<optibook.common_types.TradeTick object at 0x7fdbd41048d0>\n",
      "<optibook.common_types.TradeTick object at 0x7fdbd4143b38>\n",
      "<optibook.common_types.TradeTick object at 0x7fdbd412c1d0>\n",
      "<optibook.common_types.TradeTick object at 0x7fdbd41568d0>\n",
      "<optibook.common_types.TradeTick object at 0x7fdbd4101358>\n",
      "<optibook.common_types.TradeTick object at 0x7fdbd41642e8>\n",
      "<optibook.common_types.TradeTick object at 0x7fdbd40ef8d0>\n",
      "<optibook.common_types.TradeTick object at 0x7fdbd416aa90>\n",
      "<optibook.common_types.TradeTick object at 0x7fdbd4110b00>\n",
      "<optibook.common_types.TradeTick object at 0x7fdbd414da58>\n",
      "<optibook.common_types.TradeTick object at 0x7fdbd40cf438>\n",
      "<optibook.common_types.TradeTick object at 0x7fdbd416a198>\n",
      "<optibook.common_types.TradeTick object at 0x7fdbd416a128>\n",
      "<optibook.common_types.TradeTick object at 0x7fdbd4198240>\n",
      "<optibook.common_types.TradeTick object at 0x7fdbd40e5cc0>\n",
      "<optibook.common_types.TradeTick object at 0x7fdbd4147470>\n",
      "<optibook.common_types.TradeTick object at 0x7fdbd411cd68>\n",
      "<optibook.common_types.TradeTick object at 0x7fdbd41164e0>\n",
      "<optibook.common_types.TradeTick object at 0x7fdbd41041d0>\n",
      "<optibook.common_types.TradeTick object at 0x7fdbd40daba8>\n",
      "<optibook.common_types.TradeTick object at 0x7fdbd4116080>\n",
      "<optibook.common_types.TradeTick object at 0x7fdbd4130dd8>\n",
      "<optibook.common_types.TradeTick object at 0x7fdbd4152400>\n",
      "<optibook.common_types.TradeTick object at 0x7fdbd40d8240>\n",
      "<optibook.common_types.TradeTick object at 0x7fdbd4104c88>\n",
      "<optibook.common_types.TradeTick object at 0x7fdbd4164160>\n",
      "<optibook.common_types.TradeTick object at 0x7fdbd4130da0>\n",
      "<optibook.common_types.TradeTick object at 0x7fdbd4116828>\n",
      "<optibook.common_types.TradeTick object at 0x7fdbd4130080>\n",
      "<optibook.common_types.TradeTick object at 0x7fdbd41bbbe0>\n",
      "<optibook.common_types.TradeTick object at 0x7fdbd40e5940>\n",
      "<optibook.common_types.TradeTick object at 0x7fdbd4116278>\n",
      "<optibook.common_types.TradeTick object at 0x7fdbd41436d8>\n",
      "<optibook.common_types.TradeTick object at 0x7fdbd416ac18>\n",
      "<optibook.common_types.TradeTick object at 0x7fdbd41bb518>\n",
      "<optibook.common_types.TradeTick object at 0x7fdbd4264748>\n",
      "<optibook.common_types.TradeTick object at 0x7fdbd40c2630>\n",
      "<optibook.common_types.TradeTick object at 0x7fdbd41bbba8>\n",
      "<optibook.common_types.TradeTick object at 0x7fdbd42642b0>\n",
      "<optibook.common_types.TradeTick object at 0x7fdbd414d208>\n",
      "<optibook.common_types.TradeTick object at 0x7fdbd415dc50>\n",
      "<optibook.common_types.TradeTick object at 0x7fdbd415f0b8>\n",
      "<optibook.common_types.TradeTick object at 0x7fdbd411f588>\n",
      "<optibook.common_types.TradeTick object at 0x7fdbd40cfb00>\n",
      "<optibook.common_types.TradeTick object at 0x7fdbd411fb38>\n",
      "<optibook.common_types.TradeTick object at 0x7fdbd411f358>\n",
      "<optibook.common_types.TradeTick object at 0x7fdbd415b6d8>\n",
      "<optibook.common_types.TradeTick object at 0x7fdbd4116cc0>\n",
      "<optibook.common_types.TradeTick object at 0x7fdbd411f320>\n",
      "<optibook.common_types.TradeTick object at 0x7fdbd40d8cc0>\n",
      "<optibook.common_types.TradeTick object at 0x7fdbd40bf198>\n",
      "<optibook.common_types.TradeTick object at 0x7fdbd415dda0>\n",
      "<optibook.common_types.TradeTick object at 0x7fdbd415b080>\n",
      "<optibook.common_types.TradeTick object at 0x7fdbd41bb588>\n",
      "<optibook.common_types.TradeTick object at 0x7fdbd41a8f98>\n",
      "<optibook.common_types.TradeTick object at 0x7fdbd41101d0>\n",
      "<optibook.common_types.TradeTick object at 0x7fdbd415d828>\n",
      "<optibook.common_types.TradeTick object at 0x7fdbd40bf390>\n",
      "<optibook.common_types.TradeTick object at 0x7fdbd415b358>\n",
      "<optibook.common_types.TradeTick object at 0x7fdbd40cf518>\n",
      "<optibook.common_types.TradeTick object at 0x7fdbd412cc88>\n",
      "<optibook.common_types.TradeTick object at 0x7fdbd411b400>\n",
      "<optibook.common_types.TradeTick object at 0x7fdbd40d8828>\n",
      "<optibook.common_types.TradeTick object at 0x7fdbd415b780>\n",
      "<optibook.common_types.TradeTick object at 0x7fdbd40e8cf8>\n",
      "<optibook.common_types.TradeTick object at 0x7fdbd4179780>\n",
      "<optibook.common_types.TradeTick object at 0x7fdbd40e0c50>\n",
      "<optibook.common_types.TradeTick object at 0x7fdbd411cdd8>\n",
      "<optibook.common_types.TradeTick object at 0x7fdbd40c2128>\n",
      "<optibook.common_types.TradeTick object at 0x7fdbd40c7898>\n",
      "<optibook.common_types.TradeTick object at 0x7fdbd40d4cc0>\n",
      "<optibook.common_types.TradeTick object at 0x7fdbd4147668>\n",
      "<optibook.common_types.TradeTick object at 0x7fdbd4156080>\n",
      "<optibook.common_types.TradeTick object at 0x7fdbd415ba90>\n",
      "<optibook.common_types.TradeTick object at 0x7fdbd4130e10>\n"
     ]
    }
   ],
   "source": [
    "# Returns all public tradeticks since the instantiation of the Exchange\n",
    "tradeticks = e.get_trade_tick_history(instrument_id)\n",
    "for t in tradeticks:\n",
    "    print(t)"
   ]
  },
  {
   "cell_type": "code",
   "execution_count": null,
   "metadata": {},
   "outputs": [],
   "source": [
    "# See all your outstanding orders\n",
    "outstanding = e.get_outstanding_orders(instrument_id)\n",
    "for o in outstanding.values():\n",
    "    print(f\"Outstanding order: order_id({o.order_id}), instrument_id({o.instrument_id}), price({o.price}), volume({o.volume}), side({o.side})\")"
   ]
  },
  {
   "cell_type": "markdown",
   "metadata": {},
   "source": [
    "## Inserting and Deleting Orders"
   ]
  },
  {
   "cell_type": "code",
   "execution_count": 33,
   "metadata": {},
   "outputs": [
    {
     "name": "stdout",
     "output_type": "stream",
     "text": [
      "Order Id: 185767\n"
     ]
    }
   ],
   "source": [
    "# Insert bid limit order - This trades against any current orders, and any remainders become new resting orders in the book\n",
    "# Use this to buy.\n",
    "result = e.insert_order(instrument_id, price=71.20, volume=2, side='bid', order_type='limit')\n",
    "print(f\"Order Id: {result}\")"
   ]
  },
  {
   "cell_type": "code",
   "execution_count": 34,
   "metadata": {},
   "outputs": [
    {
     "name": "stdout",
     "output_type": "stream",
     "text": [
      "Order Id: 186056\n"
     ]
    }
   ],
   "source": [
    "# Insert ask limit order - This trades against any current orders, and any remainders become new resting orders in the book\n",
    "# Use this to sell.\n",
    "result = e.insert_order(instrument_id, price=71.30, volume=2, side='ask', order_type='limit')\n",
    "print(f\"Order Id: {result}\")"
   ]
  },
  {
   "cell_type": "code",
   "execution_count": 15,
   "metadata": {},
   "outputs": [
    {
     "name": "stdout",
     "output_type": "stream",
     "text": [
      "Order Id: 179666\n"
     ]
    }
   ],
   "source": [
    "# Insert bid IOC - This can trade against any resting volume but does not remain in the book\n",
    "# Use this to buy.\n",
    "result = e.insert_order(instrument_id, price=445.0, volume=1, side='bid', order_type='ioc')\n",
    "print(f\"Order Id: {result}\")"
   ]
  },
  {
   "cell_type": "code",
   "execution_count": 21,
   "metadata": {},
   "outputs": [
    {
     "name": "stdout",
     "output_type": "stream",
     "text": [
      "Order Id: 182045\n"
     ]
    }
   ],
   "source": [
    "# Insert ask IOC - This can trade against any resting volume but does not remain in the book\n",
    "# Use this to sell.\n",
    "result = e.insert_order(instrument_id, price=435.0, volume=1, side='ask', order_type='ioc')\n",
    "print(f\"Order Id: {result}\")"
   ]
  },
  {
   "cell_type": "code",
   "execution_count": 31,
   "metadata": {},
   "outputs": [
    {
     "name": "stdout",
     "output_type": "stream",
     "text": [
      "\n",
      "Deleted order id 185327: True\n"
     ]
    }
   ],
   "source": [
    "# Attempt to delete inserted order by order_id\n",
    "order_id = 185327\n",
    "result = e.delete_order(instrument_id, order_id=order_id)\n",
    "print()\n",
    "print(f\"Deleted order id {order_id}: {result}\")"
   ]
  },
  {
   "cell_type": "code",
   "execution_count": null,
   "metadata": {},
   "outputs": [],
   "source": [
    "# Change volume for existing order\n",
    "order_id = 5\n",
    "new_volume = 16\n",
    "result = e.amend_order(instrument_id, order_id=order_id, volume=new_volume)\n",
    "print(f\"Changed volume for order id {order_id} to {new_volume} lots: {result}\")"
   ]
  },
  {
   "cell_type": "code",
   "execution_count": null,
   "metadata": {},
   "outputs": [],
   "source": [
    "# Delete all outstanding orders\n",
    "outstanding = e.get_outstanding_orders(instrument_id)\n",
    "for o in outstanding.values():\n",
    "    result = e.delete_order(instrument_id, order_id=o.order_id)\n",
    "    print(f\"Deleted order id {o.order_id}: {result}\")"
   ]
  },
  {
   "cell_type": "markdown",
   "metadata": {},
   "source": [
    "## 'Hack' Out of Positions"
   ]
  },
  {
   "cell_type": "code",
   "execution_count": null,
   "metadata": {},
   "outputs": [],
   "source": [
    "# Get out of all positions you are currently holding, regarless of the loss involved. That means selling whatever\n",
    "# you are long, and buying-back whatever you are short. Be sure you know what you are doing when you use this logic.\n",
    "print(e.get_positions())\n",
    "for s, p in e.get_positions().items():\n",
    "    if p > 0:\n",
    "        e.insert_order(s, price=1, volume=p, side='ask', order_type='ioc')\n",
    "    elif p < 0:\n",
    "        e.insert_order(s, price=100000, volume=-p, side='bid', order_type='ioc')  \n",
    "print(e.get_positions())"
   ]
  },
  {
   "cell_type": "code",
   "execution_count": null,
   "metadata": {},
   "outputs": [],
   "source": []
  }
 ],
 "metadata": {
  "kernelspec": {
   "display_name": "Python 3",
   "language": "python",
   "name": "python3"
  },
  "language_info": {
   "codemirror_mode": {
    "name": "ipython",
    "version": 3
   },
   "file_extension": ".py",
   "mimetype": "text/x-python",
   "name": "python",
   "nbconvert_exporter": "python",
   "pygments_lexer": "ipython3",
   "version": "3.6.12"
  }
 },
 "nbformat": 4,
 "nbformat_minor": 4
}
