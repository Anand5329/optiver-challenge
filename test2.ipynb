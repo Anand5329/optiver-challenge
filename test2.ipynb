from optibook.synchronous_client import Exchange, InfoOnly

import logging
logger = logging.getLogger('client')
logger.setLevel('ERROR')

print("Setup was successful.")

id_A = 'PHILIPS_A'
id_B = 'PHILIPS_B'
#philips_a exchange2
#phillips_b exchange1
e = Exchange()
a = e.connect()

i = InfoOnly()
i.connect()


priceBookE2 = e.get_last_price_book('PHILIPS_B')
priceBookE1 = e.get_last_price_book('PHILIPS_A')


#sell when bids increases, uses speculation(ish)
def askTradeByTrend():
    curPrice = priceBookE1.bids[0].price()
    #check whether updated price (time x + 1) is greater than price at time x
    if (e.get_last_price_book('PHILIPS_A').bids[0].price > curPrice):
        result = e.insert_order('PHILIPS_A',
                                price=e.get_last_price_book('PHILIPS_A').bids[0].price, 
                                volume=20, 
                                side='ask', 
                                order_type='ioc')
                            
        priceAsked = e.get_last_price_book('PHILIPS_A').bids[0].price
        print("Sold 20 @ " + str(priceAsked)) 
    
        #check in the other exchange whether the highest bid price is lower than the price we asked this
        if (e.get_last_price_book('PHILIPS_B').asks[0].price < priceAsked)
            result1 = e.insert_order('PHILIPS_B',
                                    price=e.get_last_price_book('PHILIPS_B').asks[0].price, 
                                    volume=20, 
                                    side='bid', 
                                    order_type='ioc')
                                
            priceBidded = e.get_last_price_book('PHILIPS_B').bids[0].price
            print("Bought 20 @ " + str(priceBidded))
            pnl = (priceAsked - priceBidded) * 20
            print("Profit = " + str(pnl))
        
        #still thinking...
        else : result1 = e.insert_order('PHILIPS_B',
                                        price=priceAsked - 1, 
                                        volume=20, 
                                        side='bid', 
                                        order_type='limit')
            
        
        
    
                    
                    
                    
                    
                
    
