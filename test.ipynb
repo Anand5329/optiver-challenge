from optibook.synchronous_client import Exchange, InfoOnly

import logging
logger = logging.getLogger('client')
logger.setLevel('ERROR')

print("Setup was successful.")

id_A = 'PHILIPS_A'
id_B = 'PHILIPS_B'
#philips_a exchange2
#phillips_b exchange1
e = Exchange()
i = InfoOnly()
a = e.connect()
i.connect()

trades = i.get_trade_tick_history(id_A)
while (len(trades) == 0):
    trades = i.get_trade_tick_history(id_A)

valuation = {trades[0].instrument_id: trades[0].price}    
pnl = e.get_pnl(valuation)

print(pnl)