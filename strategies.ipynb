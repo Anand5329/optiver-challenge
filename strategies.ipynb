from optibook.synchronous_client import Exchange, InfoOnly

import logging
import threading
import multiprocessing

logger = logging.getLogger('client')
logger.setLevel('ERROR')

print("Setup was successful.")

id_A = 'PHILIPS_A'
id_B = 'PHILIPS_B'
#philips_a exchange2
#phillips_b exchange1
e = Exchange()
a = e.connect()


#flag = False


def flushPosition():
    print("Flushing positions...")
    for s, p in e.get_positions().items():

        if p > 0:
            priceBook = e.get_last_price_book(s).bids
            while (len(priceBook) == 0):
                priceBook = e.get_last_price_book(s).bids
            price = priceBook[0].price
            e.insert_order(s, price=price, volume=p, side='ask', order_type='ioc')
        elif p < 0:
            priceBook = e.get_last_price_book(s).asks
            while (len(priceBook) == 0):
                priceBook = e.get_last_price_book(s).asks
            price = priceBook[0].price
            e.insert_order(s, price=price, volume=-p, side='bid', order_type='ioc')


def flushWithPnL(threshold):
    pnl = getPnL()
    print("PnL: " + str(pnl))
    if (pnl > threshold) :
        flushPosition()


def isPositionsZero():
    posList = list(e.get_positions().values())
    curPos = sum(posList)
    return (posList[0] == 0 and posList[1] == 0)

def isPositionsAroundZero(delta):
    posList = list(e.get_positions().values())
    posValue = sum(posList)
    return posValue < delta and posValue > -delta

def getPnL():
    i = InfoOnly()
    i.connect()

    trades = i.get_trade_tick_history(id_A)
    while (len(trades) == 0):
        trades = i.get_trade_tick_history(id_A)

    valuation = {trades[0].instrument_id: trades[0].price}
    i.disconnect()
    return int(e.get_pnl(valuation))

def capVol(vol, limit = 500):
    posList = list(e.get_positions().values())
    current_pos = sum(posList)
    lim = limit - abs(current_pos)
    return min(vol, lim)

def buy(ex, id, price, vol):
    return ex.insert_order(id, price = price, volume = vol, side = 'bid', order_type = 'ioc')

def sell(ex, id, price, vol):
    return ex.insert_order(id, price = price, volume = vol, side = 'ask', order_type = 'ioc')

def multiprocessing_trade(id1, id2):
    priceBookE2 = e.get_last_price_book(id2)
    priceBookE1 = e.get_last_price_book(id1)
    if (len(priceBookE2.bids) == 0 or len(priceBookE1.asks) == 0) :
        pass
        #trade opportunity
    elif (priceBookE2.bids[0].price > priceBookE1.asks[0].price) :

        minVol = min(priceBookE2.bids[0].volume,priceBookE1.asks[0].volume)

        p1 = multiprocessing.Process(target = buy, args = (e, id1, priceBookE1.asks[0].price, minVol, ))
        p2 = multiprocessing.Process(target = sell, args = (e, id2, priceBookE2.bids[0].price, minVol, ))

        p1.start()
        p2.start()


        pl = (priceBookE2.bids[0].price - priceBookE1.asks[0].price) * minVol

        print("------")
        print("Bought " + str(minVol) + " @ " + str(priceBookE1.asks[0].price))
        print("Sold " + str(minVol) + " @ " + str(priceBookE2.bids[0].price))
        print("Profit made =" + str(pl))

        global flag
        flag = True

        p1.join()
        p2.join()


def thread_trade(id1, id2):
    priceBookE2 = e.get_last_price_book(id2)
    priceBookE1 = e.get_last_price_book(id1)
    if (len(priceBookE2.bids) == 0 or len(priceBookE1.asks) == 0) :
        pass
        #trade opportunity
    elif (priceBookE2.bids[0].price > priceBookE1.asks[0].price) :

        minVol = min(priceBookE2.bids[0].volume,priceBookE1.asks[0].volume)

        buyThread = threading.Thread(target = buy, args = (e, id1, priceBookE1.asks[0].price, minVol, ))
        sellThread = threading.Thread(target = sell, args = (e, id2, priceBookE2.bids[0].price, minVol, ))

        buyThread.start()
        sellThread.start()

        pl = (priceBookE2.bids[0].price - priceBookE1.asks[0].price) * minVol

        print("------")
        print("Bought " + str(minVol) + " @ " + str(priceBookE1.asks[0].price))
        print("Sold " + str(minVol) + " @ " + str(priceBookE2.bids[0].price))
        print("Profit made =" + str(pl))

        global flag
        flag = True

        buyThread.join()
        sellThread.join()


def bidTrade(id1, id2):
    priceBookE2 = e.get_last_price_book(id2)
    priceBookE1 = e.get_last_price_book(id1)
    if (len(priceBookE2.bids) == 0 or len(priceBookE1.asks) == 0) :
        pass
        #trade opportunity
    elif (priceBookE2.bids[0].price > priceBookE1.asks[0].price) :
        minVol = min(priceBookE2.bids[0].volume,priceBookE1.asks[0].volume)

        minVol = capVol(minVol)

        result1 = e.insert_order(id1,
                                price=priceBookE1.asks[0].price,
                                volume=minVol,
                                side='bid',
                                order_type='ioc')

        result2 = e.insert_order(id2,
                                price=priceBookE2.bids[0].price,
                                volume=minVol,
                                side='ask',
                                order_type='ioc')


        latest_trade = [e.get_trade_history(id1), e.get_trade_history(id2)]
        print(latest_trade)

        pl = (priceBookE2.bids[0].price - priceBookE1.asks[0].price) * minVol

        print("------")
        print("Bought " + str(minVol) + " @ " + str(priceBookE1.asks[0].price))
        print("Sold " + str(minVol) + " @ " + str(priceBookE2.bids[0].price))
        print("Profit made =" + str(pl))

        #global flag
        #flag = True



def askTrade(id1, id2):
    priceBookE2 = e.get_last_price_book(id2)
    priceBookE1 = e.get_last_price_book(id1)
    if (len(priceBookE2.bids) == 0 or len(priceBookE1.asks) == 0) :
        pass
    elif (priceBookE2.bids[0].price > priceBookE1.asks[0].price) :
        minVol = min(priceBookE2.bids[0].volume,priceBookE1.asks[0].volume)

        minVol = capVol(minVol)

        result1 = e.insert_order(id2,
                                price=priceBookE2.bids[0].price,
                                volume=minVol,
                                side='ask',
                                order_type='ioc')
        print(result1)

        result2 = e.insert_order(id1,
                                price=priceBookE1.asks[0].price,
                                volume=minVol,
                                side='bid',
                                order_type='ioc')
        print(result2)
        latest_trade = [e.get_trade_history(id1), e.get_trade_history(id2)]
        print(latest_trade)

        pl = (priceBookE2.bids[0].price - priceBookE1.asks[0].price) * minVol

        print("------")
        print("Bought " + str(minVol) + " @ " + str(priceBookE1.asks[0].price))
        print("Sold " + str(minVol) + " @ " + str(priceBookE2.bids[0].price))
        print("Profit made =" + str(pl))

        #global flag
        #flag = True


def main():
    while True:

        #multiprocessing_trade(id_A, id_B)
        #multiprocessing_trade(id_B, id_A)

        #thread_trade(id_A, id_B)
        #thread_trade(id_B, id_A)

        bidTrade(id_A, id_B)
        askTrade(id_A, id_B)
        bidTrade(id_B, id_A)
        askTrade(id_B, id_A)

        if (not isPositionsAroundZero(delta = 10)):
            current_pnl = min(getPnL(), 0)
            counter = 0
            print("Current PnL: " + str(current_pnl))
            while (not isPositionsAroundZero(delta = 10)):
                flushWithPnL(current_pnl)
                counter = counter + 1
                if (counter == 50):
                    current_pnl = current_pnl - 5
                    counter = 0

    #counter += 1
    #if (counter % 100 == 0):
    #flushPosition()
    #e.insert_order(id_B,
                        #price=1,
                        #volume=15,
                        #side='ask',
                        #order_type='ioc')
if __name__ == '__main__':
    main()
